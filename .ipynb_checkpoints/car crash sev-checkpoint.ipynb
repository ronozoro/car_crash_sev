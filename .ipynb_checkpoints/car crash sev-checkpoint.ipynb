{
 "cells": [
  {
   "cell_type": "markdown",
   "metadata": {
    "papermill": {
     "duration": 0.011447,
     "end_time": "2021-06-04T18:20:08.51834",
     "exception": false,
     "start_time": "2021-06-04T18:20:08.506893",
     "status": "completed"
    },
    "tags": []
   },
   "source": [
    "\n",
    "## Introduction\n",
    "\n",
    "It's required to predict the `Severity` of a car crash given info about the crash, e.g., location.\n",
    "\n",
    "This is the getting started notebook. Things are kept simple so that it's easier to understand the steps and modify it.\n",
    "\n",
    "Feel free to `Fork` this notebook and share it with your modifications **OR** use it to create your submissions.\n",
    "\n",
    "### Prerequisites\n",
    "You should know how to use python and a little bit of Machine Learning. You can apply the techniques you learned in the training program and submit the new solutions! \n",
    "\n",
    "### Checklist\n",
    "You can participate in this competition the way you perefer. However, I recommend following these steps if this is your first time joining a competition on Kaggle.\n",
    "\n",
    "* Fork this notebook and run the cells in order.\n",
    "* Submit this solution.\n",
    "* Make changes to the data processing step as you see fit.\n",
    "* Submit the new solutions.\n",
    "\n",
    "*You can submit up to 5 submissions per day. You can select only one of the submission you make to be considered in the final ranking.*\n",
    "\n",
    "\n",
    "Don't hesitate to leave a comment or contact me if you have any question!"
   ]
  },
  {
   "cell_type": "markdown",
   "metadata": {
    "papermill": {
     "duration": 0.010174,
     "end_time": "2021-06-04T18:20:08.539015",
     "exception": false,
     "start_time": "2021-06-04T18:20:08.528841",
     "status": "completed"
    },
    "tags": []
   },
   "source": [
    "## Import the libraries\n",
    "\n",
    "We'll use `pandas` to load and manipulate the data. Other libraries will be imported in the relevant sections."
   ]
  },
  {
   "cell_type": "code",
   "execution_count": 2,
   "metadata": {
    "_cell_guid": "b1076dfc-b9ad-4769-8c92-a6c4dae69d19",
    "_uuid": "8f2839f25d086af736a60e9eeb907d3b93b6e0e5",
    "execution": {
     "iopub.execute_input": "2021-07-27T00:18:06.282320Z",
     "iopub.status.busy": "2021-07-27T00:18:06.281809Z",
     "iopub.status.idle": "2021-07-27T00:18:07.158004Z",
     "shell.execute_reply": "2021-07-27T00:18:07.156612Z",
     "shell.execute_reply.started": "2021-07-27T00:18:06.282216Z"
    },
    "papermill": {
     "duration": 0.020965,
     "end_time": "2021-06-04T18:20:08.570429",
     "exception": false,
     "start_time": "2021-06-04T18:20:08.549464",
     "status": "completed"
    },
    "tags": []
   },
   "outputs": [],
   "source": [
    "%matplotlib inline\n",
    "from datetime import datetime\n",
    "import matplotlib.pyplot as plt\n",
    "import pandas as pd\n",
    "from sklearn.preprocessing import LabelEncoder\n",
    "import os\n",
    "import xml.etree.ElementTree as et"
   ]
  },
  {
   "cell_type": "code",
   "execution_count": 3,
   "metadata": {
    "execution": {
     "iopub.execute_input": "2021-07-27T00:18:07.159414Z",
     "iopub.status.busy": "2021-07-27T00:18:07.159205Z",
     "iopub.status.idle": "2021-07-27T00:18:07.163772Z",
     "shell.execute_reply": "2021-07-27T00:18:07.162622Z",
     "shell.execute_reply.started": "2021-07-27T00:18:07.159377Z"
    }
   },
   "outputs": [],
   "source": [
    "labelencoder = LabelEncoder()"
   ]
  },
  {
   "cell_type": "markdown",
   "metadata": {
    "papermill": {
     "duration": 0.010591,
     "end_time": "2021-06-04T18:20:08.592081",
     "exception": false,
     "start_time": "2021-06-04T18:20:08.58149",
     "status": "completed"
    },
    "tags": []
   },
   "source": [
    "## Exploratory Data Analysis\n",
    "In this step, one should load the data and analyze it. However, I'll load the data and do minimal analysis. You are encouraged to do thorough analysis!\n",
    "\n",
    "Let's load the data using `pandas` and have a look at the generated `DataFrame`."
   ]
  },
  {
   "cell_type": "code",
   "execution_count": 4,
   "metadata": {
    "execution": {
     "iopub.execute_input": "2021-07-27T00:18:07.165468Z",
     "iopub.status.busy": "2021-07-27T00:18:07.165228Z",
     "iopub.status.idle": "2021-07-27T00:18:07.178617Z",
     "shell.execute_reply": "2021-07-27T00:18:07.177488Z",
     "shell.execute_reply.started": "2021-07-27T00:18:07.165429Z"
    }
   },
   "outputs": [],
   "source": [
    "dataset_path = '/Volumes/Data/iti_challange/car_crash_sev/'"
   ]
  },
  {
   "cell_type": "code",
   "execution_count": 5,
   "metadata": {
    "execution": {
     "iopub.execute_input": "2021-07-27T00:18:07.180910Z",
     "iopub.status.busy": "2021-07-27T00:18:07.180567Z",
     "iopub.status.idle": "2021-07-27T00:18:07.251691Z",
     "shell.execute_reply": "2021-07-27T00:18:07.250784Z",
     "shell.execute_reply.started": "2021-07-27T00:18:07.180877Z"
    },
    "papermill": {
     "duration": 0.12872,
     "end_time": "2021-06-04T18:20:08.732163",
     "exception": false,
     "start_time": "2021-06-04T18:20:08.603443",
     "status": "completed"
    },
    "tags": []
   },
   "outputs": [
    {
     "name": "stdout",
     "output_type": "stream",
     "text": [
      "The shape of the dataset is (6407, 16).\n",
      "\n",
      "\n"
     ]
    },
    {
     "data": {
      "text/html": [
       "<div>\n",
       "<style scoped>\n",
       "    .dataframe tbody tr th:only-of-type {\n",
       "        vertical-align: middle;\n",
       "    }\n",
       "\n",
       "    .dataframe tbody tr th {\n",
       "        vertical-align: top;\n",
       "    }\n",
       "\n",
       "    .dataframe thead th {\n",
       "        text-align: right;\n",
       "    }\n",
       "</style>\n",
       "<table border=\"1\" class=\"dataframe\">\n",
       "  <thead>\n",
       "    <tr style=\"text-align: right;\">\n",
       "      <th></th>\n",
       "      <th>ID</th>\n",
       "      <th>Lat</th>\n",
       "      <th>Lng</th>\n",
       "      <th>Bump</th>\n",
       "      <th>Distance(mi)</th>\n",
       "      <th>Crossing</th>\n",
       "      <th>Give_Way</th>\n",
       "      <th>Junction</th>\n",
       "      <th>No_Exit</th>\n",
       "      <th>Railway</th>\n",
       "      <th>Roundabout</th>\n",
       "      <th>Stop</th>\n",
       "      <th>Amenity</th>\n",
       "      <th>Side</th>\n",
       "      <th>Severity</th>\n",
       "      <th>timestamp</th>\n",
       "    </tr>\n",
       "  </thead>\n",
       "  <tbody>\n",
       "    <tr>\n",
       "      <th>0</th>\n",
       "      <td>0</td>\n",
       "      <td>37.762150</td>\n",
       "      <td>-122.405660</td>\n",
       "      <td>False</td>\n",
       "      <td>0.044</td>\n",
       "      <td>False</td>\n",
       "      <td>False</td>\n",
       "      <td>False</td>\n",
       "      <td>False</td>\n",
       "      <td>False</td>\n",
       "      <td>False</td>\n",
       "      <td>False</td>\n",
       "      <td>True</td>\n",
       "      <td>R</td>\n",
       "      <td>2</td>\n",
       "      <td>2016-03-25 15:13:02</td>\n",
       "    </tr>\n",
       "    <tr>\n",
       "      <th>1</th>\n",
       "      <td>1</td>\n",
       "      <td>37.719157</td>\n",
       "      <td>-122.448254</td>\n",
       "      <td>False</td>\n",
       "      <td>0.000</td>\n",
       "      <td>False</td>\n",
       "      <td>False</td>\n",
       "      <td>False</td>\n",
       "      <td>False</td>\n",
       "      <td>False</td>\n",
       "      <td>False</td>\n",
       "      <td>False</td>\n",
       "      <td>False</td>\n",
       "      <td>R</td>\n",
       "      <td>2</td>\n",
       "      <td>2020-05-05 19:23:00</td>\n",
       "    </tr>\n",
       "    <tr>\n",
       "      <th>2</th>\n",
       "      <td>2</td>\n",
       "      <td>37.808498</td>\n",
       "      <td>-122.366852</td>\n",
       "      <td>False</td>\n",
       "      <td>0.000</td>\n",
       "      <td>False</td>\n",
       "      <td>False</td>\n",
       "      <td>False</td>\n",
       "      <td>False</td>\n",
       "      <td>False</td>\n",
       "      <td>False</td>\n",
       "      <td>True</td>\n",
       "      <td>False</td>\n",
       "      <td>R</td>\n",
       "      <td>3</td>\n",
       "      <td>2016-09-16 19:57:16</td>\n",
       "    </tr>\n",
       "    <tr>\n",
       "      <th>3</th>\n",
       "      <td>3</td>\n",
       "      <td>37.785930</td>\n",
       "      <td>-122.391080</td>\n",
       "      <td>False</td>\n",
       "      <td>0.009</td>\n",
       "      <td>False</td>\n",
       "      <td>False</td>\n",
       "      <td>True</td>\n",
       "      <td>False</td>\n",
       "      <td>False</td>\n",
       "      <td>False</td>\n",
       "      <td>False</td>\n",
       "      <td>False</td>\n",
       "      <td>R</td>\n",
       "      <td>1</td>\n",
       "      <td>2020-03-29 19:48:43</td>\n",
       "    </tr>\n",
       "    <tr>\n",
       "      <th>4</th>\n",
       "      <td>4</td>\n",
       "      <td>37.719141</td>\n",
       "      <td>-122.448457</td>\n",
       "      <td>False</td>\n",
       "      <td>0.000</td>\n",
       "      <td>False</td>\n",
       "      <td>False</td>\n",
       "      <td>False</td>\n",
       "      <td>False</td>\n",
       "      <td>False</td>\n",
       "      <td>False</td>\n",
       "      <td>False</td>\n",
       "      <td>False</td>\n",
       "      <td>R</td>\n",
       "      <td>2</td>\n",
       "      <td>2019-10-09 08:47:00</td>\n",
       "    </tr>\n",
       "  </tbody>\n",
       "</table>\n",
       "</div>"
      ],
      "text/plain": [
       "   ID        Lat         Lng   Bump  Distance(mi)  Crossing  Give_Way  \\\n",
       "0   0  37.762150 -122.405660  False         0.044     False     False   \n",
       "1   1  37.719157 -122.448254  False         0.000     False     False   \n",
       "2   2  37.808498 -122.366852  False         0.000     False     False   \n",
       "3   3  37.785930 -122.391080  False         0.009     False     False   \n",
       "4   4  37.719141 -122.448457  False         0.000     False     False   \n",
       "\n",
       "   Junction  No_Exit  Railway  Roundabout   Stop  Amenity Side  Severity  \\\n",
       "0     False    False    False       False  False     True    R         2   \n",
       "1     False    False    False       False  False    False    R         2   \n",
       "2     False    False    False       False   True    False    R         3   \n",
       "3      True    False    False       False  False    False    R         1   \n",
       "4     False    False    False       False  False    False    R         2   \n",
       "\n",
       "             timestamp  \n",
       "0  2016-03-25 15:13:02  \n",
       "1  2020-05-05 19:23:00  \n",
       "2  2016-09-16 19:57:16  \n",
       "3  2020-03-29 19:48:43  \n",
       "4  2019-10-09 08:47:00  "
      ]
     },
     "execution_count": 5,
     "metadata": {},
     "output_type": "execute_result"
    }
   ],
   "source": [
    "df = pd.read_csv(os.path.join(dataset_path, 'train.csv'))\n",
    "print(\"The shape of the dataset is {}.\\n\\n\".format(df.shape))\n",
    "df.head()"
   ]
  },
  {
   "cell_type": "markdown",
   "metadata": {
    "papermill": {
     "duration": 0.011003,
     "end_time": "2021-06-04T18:20:08.755399",
     "exception": false,
     "start_time": "2021-06-04T18:20:08.744396",
     "status": "completed"
    },
    "tags": []
   },
   "source": [
    "We've got 6407 examples in the dataset with 14 featues, 1 ID, and the `Severity` of the crash.\n",
    "\n",
    "By looking at the features and a sample from the data, the features look of numerical and catogerical types. What about some descriptive statistics?"
   ]
  },
  {
   "cell_type": "code",
   "execution_count": 6,
   "metadata": {
    "execution": {
     "iopub.execute_input": "2021-07-27T00:18:07.253025Z",
     "iopub.status.busy": "2021-07-27T00:18:07.252738Z",
     "iopub.status.idle": "2021-07-27T00:18:07.285014Z",
     "shell.execute_reply": "2021-07-27T00:18:07.284093Z",
     "shell.execute_reply.started": "2021-07-27T00:18:07.252994Z"
    },
    "papermill": {
     "duration": 0.083012,
     "end_time": "2021-06-04T18:20:08.849647",
     "exception": false,
     "start_time": "2021-06-04T18:20:08.766635",
     "status": "completed"
    },
    "tags": []
   },
   "outputs": [
    {
     "data": {
      "text/html": [
       "<div>\n",
       "<style scoped>\n",
       "    .dataframe tbody tr th:only-of-type {\n",
       "        vertical-align: middle;\n",
       "    }\n",
       "\n",
       "    .dataframe tbody tr th {\n",
       "        vertical-align: top;\n",
       "    }\n",
       "\n",
       "    .dataframe thead th {\n",
       "        text-align: right;\n",
       "    }\n",
       "</style>\n",
       "<table border=\"1\" class=\"dataframe\">\n",
       "  <thead>\n",
       "    <tr style=\"text-align: right;\">\n",
       "      <th></th>\n",
       "      <th>Lat</th>\n",
       "      <th>Lng</th>\n",
       "      <th>Distance(mi)</th>\n",
       "      <th>Severity</th>\n",
       "    </tr>\n",
       "  </thead>\n",
       "  <tbody>\n",
       "    <tr>\n",
       "      <th>count</th>\n",
       "      <td>6407.000000</td>\n",
       "      <td>6407.000000</td>\n",
       "      <td>6407.000000</td>\n",
       "      <td>6407.000000</td>\n",
       "    </tr>\n",
       "    <tr>\n",
       "      <th>mean</th>\n",
       "      <td>37.765653</td>\n",
       "      <td>-122.405990</td>\n",
       "      <td>0.135189</td>\n",
       "      <td>2.293429</td>\n",
       "    </tr>\n",
       "    <tr>\n",
       "      <th>std</th>\n",
       "      <td>0.032555</td>\n",
       "      <td>0.028275</td>\n",
       "      <td>0.396360</td>\n",
       "      <td>0.521225</td>\n",
       "    </tr>\n",
       "    <tr>\n",
       "      <th>min</th>\n",
       "      <td>37.609619</td>\n",
       "      <td>-122.510440</td>\n",
       "      <td>0.000000</td>\n",
       "      <td>1.000000</td>\n",
       "    </tr>\n",
       "    <tr>\n",
       "      <th>25%</th>\n",
       "      <td>37.737096</td>\n",
       "      <td>-122.412210</td>\n",
       "      <td>0.000000</td>\n",
       "      <td>2.000000</td>\n",
       "    </tr>\n",
       "    <tr>\n",
       "      <th>50%</th>\n",
       "      <td>37.768238</td>\n",
       "      <td>-122.404835</td>\n",
       "      <td>0.000000</td>\n",
       "      <td>2.000000</td>\n",
       "    </tr>\n",
       "    <tr>\n",
       "      <th>75%</th>\n",
       "      <td>37.787813</td>\n",
       "      <td>-122.392477</td>\n",
       "      <td>0.041000</td>\n",
       "      <td>3.000000</td>\n",
       "    </tr>\n",
       "    <tr>\n",
       "      <th>max</th>\n",
       "      <td>37.825626</td>\n",
       "      <td>-122.349734</td>\n",
       "      <td>6.820000</td>\n",
       "      <td>4.000000</td>\n",
       "    </tr>\n",
       "  </tbody>\n",
       "</table>\n",
       "</div>"
      ],
      "text/plain": [
       "               Lat          Lng  Distance(mi)     Severity\n",
       "count  6407.000000  6407.000000   6407.000000  6407.000000\n",
       "mean     37.765653  -122.405990      0.135189     2.293429\n",
       "std       0.032555     0.028275      0.396360     0.521225\n",
       "min      37.609619  -122.510440      0.000000     1.000000\n",
       "25%      37.737096  -122.412210      0.000000     2.000000\n",
       "50%      37.768238  -122.404835      0.000000     2.000000\n",
       "75%      37.787813  -122.392477      0.041000     3.000000\n",
       "max      37.825626  -122.349734      6.820000     4.000000"
      ]
     },
     "execution_count": 6,
     "metadata": {},
     "output_type": "execute_result"
    }
   ],
   "source": [
    "df.drop(columns='ID').describe()"
   ]
  },
  {
   "cell_type": "markdown",
   "metadata": {},
   "source": [
    "The output shows desciptive statistics for the numerical features, `Lat`, `Lng`, `Distance(mi)`, and `Severity`. I'll use the numerical features to demonstrate how to train the model and make submissions. **However you shouldn't use the numerical features only to make the final submission if you want to make it to the top of the leaderboard.**"
   ]
  },
  {
   "cell_type": "markdown",
   "metadata": {},
   "source": [
    "### Remove columns with now effect"
   ]
  },
  {
   "cell_type": "code",
   "execution_count": 7,
   "metadata": {
    "execution": {
     "iopub.execute_input": "2021-07-27T00:18:07.286775Z",
     "iopub.status.busy": "2021-07-27T00:18:07.286392Z",
     "iopub.status.idle": "2021-07-27T00:18:07.293106Z",
     "shell.execute_reply": "2021-07-27T00:18:07.292074Z",
     "shell.execute_reply.started": "2021-07-27T00:18:07.286739Z"
    }
   },
   "outputs": [],
   "source": [
    "df.drop(columns=['Bump','Roundabout'],inplace=True)"
   ]
  },
  {
   "cell_type": "markdown",
   "metadata": {},
   "source": [
    "#### Format date data in the dataframe and extract the hour to match with weather data"
   ]
  },
  {
   "cell_type": "code",
   "execution_count": 8,
   "metadata": {
    "execution": {
     "iopub.execute_input": "2021-07-27T00:18:07.294479Z",
     "iopub.status.busy": "2021-07-27T00:18:07.294145Z",
     "iopub.status.idle": "2021-07-27T00:18:07.359289Z",
     "shell.execute_reply": "2021-07-27T00:18:07.357821Z",
     "shell.execute_reply.started": "2021-07-27T00:18:07.294424Z"
    }
   },
   "outputs": [
    {
     "name": "stdout",
     "output_type": "stream",
     "text": [
      "<class 'pandas.core.frame.DataFrame'>\n",
      "RangeIndex: 6407 entries, 0 to 6406\n",
      "Data columns (total 15 columns):\n",
      " #   Column        Non-Null Count  Dtype         \n",
      "---  ------        --------------  -----         \n",
      " 0   ID            6407 non-null   int64         \n",
      " 1   Lat           6407 non-null   float64       \n",
      " 2   Lng           6407 non-null   float64       \n",
      " 3   Distance(mi)  6407 non-null   float64       \n",
      " 4   Crossing      6407 non-null   bool          \n",
      " 5   Give_Way      6407 non-null   bool          \n",
      " 6   Junction      6407 non-null   bool          \n",
      " 7   No_Exit       6407 non-null   bool          \n",
      " 8   Railway       6407 non-null   bool          \n",
      " 9   Stop          6407 non-null   bool          \n",
      " 10  Amenity       6407 non-null   bool          \n",
      " 11  Side          6407 non-null   object        \n",
      " 12  Severity      6407 non-null   int64         \n",
      " 13  timestamp     6407 non-null   datetime64[ns]\n",
      " 14  date_time     6407 non-null   datetime64[ns]\n",
      "dtypes: bool(7), datetime64[ns](2), float64(3), int64(2), object(1)\n",
      "memory usage: 444.4+ KB\n"
     ]
    }
   ],
   "source": [
    "df['timestamp']=pd.to_datetime(df['timestamp'])\n",
    "df['date_time']=pd.to_datetime(df['timestamp'].dt.strftime('%Y-%m-%d %H:00:00'))\n",
    "df.info()"
   ]
  },
  {
   "cell_type": "markdown",
   "metadata": {},
   "source": [
    "#### convert bool values to numeric int values for cleaning"
   ]
  },
  {
   "cell_type": "code",
   "execution_count": 9,
   "metadata": {
    "execution": {
     "iopub.execute_input": "2021-07-27T00:18:07.362303Z",
     "iopub.status.busy": "2021-07-27T00:18:07.362092Z",
     "iopub.status.idle": "2021-07-27T00:18:07.379146Z",
     "shell.execute_reply": "2021-07-27T00:18:07.377754Z",
     "shell.execute_reply.started": "2021-07-27T00:18:07.362281Z"
    }
   },
   "outputs": [],
   "source": [
    "df['Crossing'] = df['Crossing'].astype('int')\n",
    "df['Give_Way'] = df['Give_Way'].astype('int')\n",
    "df['Junction'] = df['Junction'].astype('int')\n",
    "df['No_Exit'] = df['No_Exit'].astype('int')\n",
    "df['Railway'] = df['Railway'].astype('int')\n",
    "df['Stop'] = df['Stop'].astype('int')\n",
    "df['Amenity'] = df['Amenity'].astype('int')"
   ]
  },
  {
   "cell_type": "markdown",
   "metadata": {},
   "source": [
    "#### encode side data as numeric"
   ]
  },
  {
   "cell_type": "code",
   "execution_count": 10,
   "metadata": {
    "execution": {
     "iopub.execute_input": "2021-07-27T00:18:07.382981Z",
     "iopub.status.busy": "2021-07-27T00:18:07.382752Z",
     "iopub.status.idle": "2021-07-27T00:18:07.390891Z",
     "shell.execute_reply": "2021-07-27T00:18:07.390258Z",
     "shell.execute_reply.started": "2021-07-27T00:18:07.382959Z"
    }
   },
   "outputs": [],
   "source": [
    "df['Side'] = labelencoder.fit_transform(df['Side'])"
   ]
  },
  {
   "cell_type": "code",
   "execution_count": 11,
   "metadata": {
    "execution": {
     "iopub.execute_input": "2021-07-27T00:18:07.392184Z",
     "iopub.status.busy": "2021-07-27T00:18:07.391757Z",
     "iopub.status.idle": "2021-07-27T00:18:07.418347Z",
     "shell.execute_reply": "2021-07-27T00:18:07.417428Z",
     "shell.execute_reply.started": "2021-07-27T00:18:07.392161Z"
    }
   },
   "outputs": [
    {
     "data": {
      "text/html": [
       "<div>\n",
       "<style scoped>\n",
       "    .dataframe tbody tr th:only-of-type {\n",
       "        vertical-align: middle;\n",
       "    }\n",
       "\n",
       "    .dataframe tbody tr th {\n",
       "        vertical-align: top;\n",
       "    }\n",
       "\n",
       "    .dataframe thead th {\n",
       "        text-align: right;\n",
       "    }\n",
       "</style>\n",
       "<table border=\"1\" class=\"dataframe\">\n",
       "  <thead>\n",
       "    <tr style=\"text-align: right;\">\n",
       "      <th></th>\n",
       "      <th>ID</th>\n",
       "      <th>Lat</th>\n",
       "      <th>Lng</th>\n",
       "      <th>Distance(mi)</th>\n",
       "      <th>Crossing</th>\n",
       "      <th>Give_Way</th>\n",
       "      <th>Junction</th>\n",
       "      <th>No_Exit</th>\n",
       "      <th>Railway</th>\n",
       "      <th>Stop</th>\n",
       "      <th>Amenity</th>\n",
       "      <th>Side</th>\n",
       "      <th>Severity</th>\n",
       "      <th>timestamp</th>\n",
       "      <th>date_time</th>\n",
       "    </tr>\n",
       "  </thead>\n",
       "  <tbody>\n",
       "    <tr>\n",
       "      <th>0</th>\n",
       "      <td>0</td>\n",
       "      <td>37.762150</td>\n",
       "      <td>-122.405660</td>\n",
       "      <td>0.044</td>\n",
       "      <td>0</td>\n",
       "      <td>0</td>\n",
       "      <td>0</td>\n",
       "      <td>0</td>\n",
       "      <td>0</td>\n",
       "      <td>0</td>\n",
       "      <td>1</td>\n",
       "      <td>1</td>\n",
       "      <td>2</td>\n",
       "      <td>2016-03-25 15:13:02</td>\n",
       "      <td>2016-03-25 15:00:00</td>\n",
       "    </tr>\n",
       "    <tr>\n",
       "      <th>1</th>\n",
       "      <td>1</td>\n",
       "      <td>37.719157</td>\n",
       "      <td>-122.448254</td>\n",
       "      <td>0.000</td>\n",
       "      <td>0</td>\n",
       "      <td>0</td>\n",
       "      <td>0</td>\n",
       "      <td>0</td>\n",
       "      <td>0</td>\n",
       "      <td>0</td>\n",
       "      <td>0</td>\n",
       "      <td>1</td>\n",
       "      <td>2</td>\n",
       "      <td>2020-05-05 19:23:00</td>\n",
       "      <td>2020-05-05 19:00:00</td>\n",
       "    </tr>\n",
       "    <tr>\n",
       "      <th>2</th>\n",
       "      <td>2</td>\n",
       "      <td>37.808498</td>\n",
       "      <td>-122.366852</td>\n",
       "      <td>0.000</td>\n",
       "      <td>0</td>\n",
       "      <td>0</td>\n",
       "      <td>0</td>\n",
       "      <td>0</td>\n",
       "      <td>0</td>\n",
       "      <td>1</td>\n",
       "      <td>0</td>\n",
       "      <td>1</td>\n",
       "      <td>3</td>\n",
       "      <td>2016-09-16 19:57:16</td>\n",
       "      <td>2016-09-16 19:00:00</td>\n",
       "    </tr>\n",
       "    <tr>\n",
       "      <th>3</th>\n",
       "      <td>3</td>\n",
       "      <td>37.785930</td>\n",
       "      <td>-122.391080</td>\n",
       "      <td>0.009</td>\n",
       "      <td>0</td>\n",
       "      <td>0</td>\n",
       "      <td>1</td>\n",
       "      <td>0</td>\n",
       "      <td>0</td>\n",
       "      <td>0</td>\n",
       "      <td>0</td>\n",
       "      <td>1</td>\n",
       "      <td>1</td>\n",
       "      <td>2020-03-29 19:48:43</td>\n",
       "      <td>2020-03-29 19:00:00</td>\n",
       "    </tr>\n",
       "    <tr>\n",
       "      <th>4</th>\n",
       "      <td>4</td>\n",
       "      <td>37.719141</td>\n",
       "      <td>-122.448457</td>\n",
       "      <td>0.000</td>\n",
       "      <td>0</td>\n",
       "      <td>0</td>\n",
       "      <td>0</td>\n",
       "      <td>0</td>\n",
       "      <td>0</td>\n",
       "      <td>0</td>\n",
       "      <td>0</td>\n",
       "      <td>1</td>\n",
       "      <td>2</td>\n",
       "      <td>2019-10-09 08:47:00</td>\n",
       "      <td>2019-10-09 08:00:00</td>\n",
       "    </tr>\n",
       "  </tbody>\n",
       "</table>\n",
       "</div>"
      ],
      "text/plain": [
       "   ID        Lat         Lng  Distance(mi)  Crossing  Give_Way  Junction  \\\n",
       "0   0  37.762150 -122.405660         0.044         0         0         0   \n",
       "1   1  37.719157 -122.448254         0.000         0         0         0   \n",
       "2   2  37.808498 -122.366852         0.000         0         0         0   \n",
       "3   3  37.785930 -122.391080         0.009         0         0         1   \n",
       "4   4  37.719141 -122.448457         0.000         0         0         0   \n",
       "\n",
       "   No_Exit  Railway  Stop  Amenity  Side  Severity           timestamp  \\\n",
       "0        0        0     0        1     1         2 2016-03-25 15:13:02   \n",
       "1        0        0     0        0     1         2 2020-05-05 19:23:00   \n",
       "2        0        0     1        0     1         3 2016-09-16 19:57:16   \n",
       "3        0        0     0        0     1         1 2020-03-29 19:48:43   \n",
       "4        0        0     0        0     1         2 2019-10-09 08:47:00   \n",
       "\n",
       "            date_time  \n",
       "0 2016-03-25 15:00:00  \n",
       "1 2020-05-05 19:00:00  \n",
       "2 2016-09-16 19:00:00  \n",
       "3 2020-03-29 19:00:00  \n",
       "4 2019-10-09 08:00:00  "
      ]
     },
     "execution_count": 11,
     "metadata": {},
     "output_type": "execute_result"
    }
   ],
   "source": [
    "df.head()"
   ]
  },
  {
   "cell_type": "markdown",
   "metadata": {},
   "source": [
    "### Import Holiday Data"
   ]
  },
  {
   "cell_type": "code",
   "execution_count": 12,
   "metadata": {
    "execution": {
     "iopub.execute_input": "2021-07-27T00:18:07.419655Z",
     "iopub.status.busy": "2021-07-27T00:18:07.419410Z",
     "iopub.status.idle": "2021-07-27T00:18:07.446988Z",
     "shell.execute_reply": "2021-07-27T00:18:07.446032Z",
     "shell.execute_reply.started": "2021-07-27T00:18:07.419631Z"
    }
   },
   "outputs": [
    {
     "data": {
      "text/html": [
       "<div>\n",
       "<style scoped>\n",
       "    .dataframe tbody tr th:only-of-type {\n",
       "        vertical-align: middle;\n",
       "    }\n",
       "\n",
       "    .dataframe tbody tr th {\n",
       "        vertical-align: top;\n",
       "    }\n",
       "\n",
       "    .dataframe thead th {\n",
       "        text-align: right;\n",
       "    }\n",
       "</style>\n",
       "<table border=\"1\" class=\"dataframe\">\n",
       "  <thead>\n",
       "    <tr style=\"text-align: right;\">\n",
       "      <th></th>\n",
       "      <th>date</th>\n",
       "      <th>description</th>\n",
       "    </tr>\n",
       "  </thead>\n",
       "  <tbody>\n",
       "    <tr>\n",
       "      <th>0</th>\n",
       "      <td>2012-01-02</td>\n",
       "      <td>New Year Day</td>\n",
       "    </tr>\n",
       "    <tr>\n",
       "      <th>1</th>\n",
       "      <td>2012-01-16</td>\n",
       "      <td>Martin Luther King Jr. Day</td>\n",
       "    </tr>\n",
       "    <tr>\n",
       "      <th>2</th>\n",
       "      <td>2012-02-20</td>\n",
       "      <td>Presidents Day (Washingtons Birthday)</td>\n",
       "    </tr>\n",
       "    <tr>\n",
       "      <th>3</th>\n",
       "      <td>2012-05-28</td>\n",
       "      <td>Memorial Day</td>\n",
       "    </tr>\n",
       "    <tr>\n",
       "      <th>4</th>\n",
       "      <td>2012-07-04</td>\n",
       "      <td>Independence Day</td>\n",
       "    </tr>\n",
       "  </tbody>\n",
       "</table>\n",
       "</div>"
      ],
      "text/plain": [
       "         date                            description\n",
       "0  2012-01-02                           New Year Day\n",
       "1  2012-01-16             Martin Luther King Jr. Day\n",
       "2  2012-02-20  Presidents Day (Washingtons Birthday)\n",
       "3  2012-05-28                           Memorial Day\n",
       "4  2012-07-04                       Independence Day"
      ]
     },
     "execution_count": 12,
     "metadata": {},
     "output_type": "execute_result"
    }
   ],
   "source": [
    "xtree = et.parse(os.path.join(dataset_path, 'holidays.xml'))\n",
    "xroot = xtree.getroot()\n",
    "df_cols = [\"date\", \"description\"]\n",
    "rows = []\n",
    "for node in xroot:\n",
    "    date = node.find(\"date\").text if node is not None else None\n",
    "    description = node.find(\"description\").text if node is not None else None\n",
    "    rows.append({\"date\": date,\"description\": description})\n",
    "holidays_df = pd.DataFrame(rows)\n",
    "holidays_df.head()"
   ]
  },
  {
   "cell_type": "markdown",
   "metadata": {},
   "source": [
    "#### format date to match with the train data"
   ]
  },
  {
   "cell_type": "code",
   "execution_count": 13,
   "metadata": {
    "execution": {
     "iopub.execute_input": "2021-07-27T00:18:07.448714Z",
     "iopub.status.busy": "2021-07-27T00:18:07.448401Z",
     "iopub.status.idle": "2021-07-27T00:18:07.455081Z",
     "shell.execute_reply": "2021-07-27T00:18:07.454391Z",
     "shell.execute_reply.started": "2021-07-27T00:18:07.448686Z"
    }
   },
   "outputs": [],
   "source": [
    "holidays_df['date']=pd.to_datetime(holidays_df['date'])"
   ]
  },
  {
   "cell_type": "markdown",
   "metadata": {},
   "source": [
    "#### Check if the day of the accident was holiday or not"
   ]
  },
  {
   "cell_type": "code",
   "execution_count": 14,
   "metadata": {
    "execution": {
     "iopub.execute_input": "2021-07-27T00:18:07.456689Z",
     "iopub.status.busy": "2021-07-27T00:18:07.456135Z",
     "iopub.status.idle": "2021-07-27T00:18:07.473300Z",
     "shell.execute_reply": "2021-07-27T00:18:07.472692Z",
     "shell.execute_reply.started": "2021-07-27T00:18:07.456653Z"
    }
   },
   "outputs": [],
   "source": [
    "df['is_holiday']=df['timestamp'].dt.date.isin(holidays_df['date'].dt.date).astype(int)  "
   ]
  },
  {
   "cell_type": "markdown",
   "metadata": {},
   "source": [
    "### Import Weather Data"
   ]
  },
  {
   "cell_type": "code",
   "execution_count": 15,
   "metadata": {
    "execution": {
     "iopub.execute_input": "2021-07-27T00:18:07.474865Z",
     "iopub.status.busy": "2021-07-27T00:18:07.474368Z",
     "iopub.status.idle": "2021-07-27T00:18:07.532076Z",
     "shell.execute_reply": "2021-07-27T00:18:07.531124Z",
     "shell.execute_reply.started": "2021-07-27T00:18:07.474829Z"
    }
   },
   "outputs": [],
   "source": [
    "weather_df = pd.read_csv(os.path.join(dataset_path, 'weather-sfcsv.csv'))\n"
   ]
  },
  {
   "cell_type": "code",
   "execution_count": 16,
   "metadata": {},
   "outputs": [
    {
     "data": {
      "text/html": [
       "<div>\n",
       "<style scoped>\n",
       "    .dataframe tbody tr th:only-of-type {\n",
       "        vertical-align: middle;\n",
       "    }\n",
       "\n",
       "    .dataframe tbody tr th {\n",
       "        vertical-align: top;\n",
       "    }\n",
       "\n",
       "    .dataframe thead th {\n",
       "        text-align: right;\n",
       "    }\n",
       "</style>\n",
       "<table border=\"1\" class=\"dataframe\">\n",
       "  <thead>\n",
       "    <tr style=\"text-align: right;\">\n",
       "      <th></th>\n",
       "      <th>Year</th>\n",
       "      <th>Day</th>\n",
       "      <th>Month</th>\n",
       "      <th>Hour</th>\n",
       "      <th>Weather_Condition</th>\n",
       "      <th>Wind_Chill(F)</th>\n",
       "      <th>Precipitation(in)</th>\n",
       "      <th>Temperature(F)</th>\n",
       "      <th>Humidity(%)</th>\n",
       "      <th>Wind_Speed(mph)</th>\n",
       "      <th>Visibility(mi)</th>\n",
       "      <th>Selected</th>\n",
       "    </tr>\n",
       "  </thead>\n",
       "  <tbody>\n",
       "    <tr>\n",
       "      <th>0</th>\n",
       "      <td>2020</td>\n",
       "      <td>27</td>\n",
       "      <td>7</td>\n",
       "      <td>18</td>\n",
       "      <td>Fair</td>\n",
       "      <td>64.0</td>\n",
       "      <td>0.0</td>\n",
       "      <td>64.0</td>\n",
       "      <td>70.0</td>\n",
       "      <td>20.0</td>\n",
       "      <td>10.0</td>\n",
       "      <td>No</td>\n",
       "    </tr>\n",
       "    <tr>\n",
       "      <th>1</th>\n",
       "      <td>2017</td>\n",
       "      <td>30</td>\n",
       "      <td>9</td>\n",
       "      <td>17</td>\n",
       "      <td>Partly Cloudy</td>\n",
       "      <td>NaN</td>\n",
       "      <td>NaN</td>\n",
       "      <td>71.1</td>\n",
       "      <td>57.0</td>\n",
       "      <td>9.2</td>\n",
       "      <td>10.0</td>\n",
       "      <td>No</td>\n",
       "    </tr>\n",
       "    <tr>\n",
       "      <th>2</th>\n",
       "      <td>2017</td>\n",
       "      <td>27</td>\n",
       "      <td>6</td>\n",
       "      <td>5</td>\n",
       "      <td>Overcast</td>\n",
       "      <td>NaN</td>\n",
       "      <td>NaN</td>\n",
       "      <td>57.9</td>\n",
       "      <td>87.0</td>\n",
       "      <td>15.0</td>\n",
       "      <td>9.0</td>\n",
       "      <td>No</td>\n",
       "    </tr>\n",
       "    <tr>\n",
       "      <th>3</th>\n",
       "      <td>2016</td>\n",
       "      <td>7</td>\n",
       "      <td>9</td>\n",
       "      <td>9</td>\n",
       "      <td>Clear</td>\n",
       "      <td>NaN</td>\n",
       "      <td>NaN</td>\n",
       "      <td>66.9</td>\n",
       "      <td>73.0</td>\n",
       "      <td>4.6</td>\n",
       "      <td>10.0</td>\n",
       "      <td>No</td>\n",
       "    </tr>\n",
       "    <tr>\n",
       "      <th>4</th>\n",
       "      <td>2019</td>\n",
       "      <td>19</td>\n",
       "      <td>10</td>\n",
       "      <td>2</td>\n",
       "      <td>Fair</td>\n",
       "      <td>52.0</td>\n",
       "      <td>0.0</td>\n",
       "      <td>52.0</td>\n",
       "      <td>89.0</td>\n",
       "      <td>0.0</td>\n",
       "      <td>9.0</td>\n",
       "      <td>No</td>\n",
       "    </tr>\n",
       "  </tbody>\n",
       "</table>\n",
       "</div>"
      ],
      "text/plain": [
       "   Year  Day  Month  Hour Weather_Condition  Wind_Chill(F)  Precipitation(in)  \\\n",
       "0  2020   27      7    18              Fair           64.0                0.0   \n",
       "1  2017   30      9    17     Partly Cloudy            NaN                NaN   \n",
       "2  2017   27      6     5          Overcast            NaN                NaN   \n",
       "3  2016    7      9     9             Clear            NaN                NaN   \n",
       "4  2019   19     10     2              Fair           52.0                0.0   \n",
       "\n",
       "   Temperature(F)  Humidity(%)  Wind_Speed(mph)  Visibility(mi) Selected  \n",
       "0            64.0         70.0             20.0            10.0       No  \n",
       "1            71.1         57.0              9.2            10.0       No  \n",
       "2            57.9         87.0             15.0             9.0       No  \n",
       "3            66.9         73.0              4.6            10.0       No  \n",
       "4            52.0         89.0              0.0             9.0       No  "
      ]
     },
     "execution_count": 16,
     "metadata": {},
     "output_type": "execute_result"
    }
   ],
   "source": [
    "weather_df.head()"
   ]
  },
  {
   "cell_type": "code",
   "execution_count": 17,
   "metadata": {},
   "outputs": [],
   "source": [
    "weather_df['date_time']=pd.to_datetime(weather_df[[\"Year\", \"Month\", \"Day\",\"Hour\"]])\n",
    "weather_df.dropna(subset=[\"Weather_Condition\"],inplace=True)"
   ]
  },
  {
   "cell_type": "code",
   "execution_count": 18,
   "metadata": {
    "execution": {
     "iopub.execute_input": "2021-07-27T00:18:07.533304Z",
     "iopub.status.busy": "2021-07-27T00:18:07.533099Z",
     "iopub.status.idle": "2021-07-27T00:18:07.538233Z",
     "shell.execute_reply": "2021-07-27T00:18:07.537571Z",
     "shell.execute_reply.started": "2021-07-27T00:18:07.533283Z"
    }
   },
   "outputs": [],
   "source": [
    "weather_df['Weather_Condition'] = labelencoder.fit_transform(weather_df['Weather_Condition'])"
   ]
  },
  {
   "cell_type": "code",
   "execution_count": 19,
   "metadata": {
    "execution": {
     "iopub.execute_input": "2021-07-27T00:18:07.539577Z",
     "iopub.status.busy": "2021-07-27T00:18:07.539218Z",
     "iopub.status.idle": "2021-07-27T00:18:07.557770Z",
     "shell.execute_reply": "2021-07-27T00:18:07.557144Z",
     "shell.execute_reply.started": "2021-07-27T00:18:07.539553Z"
    }
   },
   "outputs": [],
   "source": [
    "weather_df['Visibility(mi)'].fillna(weather_df['Visibility(mi)'].mean(),inplace=True)\n",
    "weather_df['Wind_Speed(mph)'].fillna(weather_df['Wind_Speed(mph)'].mean(),inplace=True)\n",
    "weather_df['Humidity(%)'].fillna(weather_df['Humidity(%)'].mean(),inplace=True)\n",
    "weather_df['Temperature(F)'].fillna(weather_df['Temperature(F)'].mean(),inplace=True)"
   ]
  },
  {
   "cell_type": "code",
   "execution_count": 20,
   "metadata": {
    "execution": {
     "iopub.execute_input": "2021-07-27T00:18:07.559089Z",
     "iopub.status.busy": "2021-07-27T00:18:07.558726Z",
     "iopub.status.idle": "2021-07-27T00:18:07.580559Z",
     "shell.execute_reply": "2021-07-27T00:18:07.579215Z",
     "shell.execute_reply.started": "2021-07-27T00:18:07.559024Z"
    }
   },
   "outputs": [],
   "source": [
    "weather_df.drop_duplicates(subset=['date_time'],inplace=True)"
   ]
  },
  {
   "cell_type": "code",
   "execution_count": 21,
   "metadata": {
    "execution": {
     "iopub.execute_input": "2021-07-27T00:18:07.582035Z",
     "iopub.status.busy": "2021-07-27T00:18:07.581772Z",
     "iopub.status.idle": "2021-07-27T00:18:07.592380Z",
     "shell.execute_reply": "2021-07-27T00:18:07.591753Z",
     "shell.execute_reply.started": "2021-07-27T00:18:07.582008Z"
    }
   },
   "outputs": [],
   "source": [
    "weather_df.drop(columns=['Wind_Chill(F)','Precipitation(in)','Selected',\n",
    "                         \"Year\", \"Month\", \"Day\",\"Hour\"],inplace=True)"
   ]
  },
  {
   "cell_type": "code",
   "execution_count": 22,
   "metadata": {
    "execution": {
     "iopub.execute_input": "2021-07-27T00:18:07.593498Z",
     "iopub.status.busy": "2021-07-27T00:18:07.593158Z",
     "iopub.status.idle": "2021-07-27T00:18:07.615037Z",
     "shell.execute_reply": "2021-07-27T00:18:07.613816Z",
     "shell.execute_reply.started": "2021-07-27T00:18:07.593473Z"
    }
   },
   "outputs": [
    {
     "data": {
      "text/html": [
       "<div>\n",
       "<style scoped>\n",
       "    .dataframe tbody tr th:only-of-type {\n",
       "        vertical-align: middle;\n",
       "    }\n",
       "\n",
       "    .dataframe tbody tr th {\n",
       "        vertical-align: top;\n",
       "    }\n",
       "\n",
       "    .dataframe thead th {\n",
       "        text-align: right;\n",
       "    }\n",
       "</style>\n",
       "<table border=\"1\" class=\"dataframe\">\n",
       "  <thead>\n",
       "    <tr style=\"text-align: right;\">\n",
       "      <th></th>\n",
       "      <th>Weather_Condition</th>\n",
       "      <th>Temperature(F)</th>\n",
       "      <th>Humidity(%)</th>\n",
       "      <th>Wind_Speed(mph)</th>\n",
       "      <th>Visibility(mi)</th>\n",
       "      <th>date_time</th>\n",
       "    </tr>\n",
       "  </thead>\n",
       "  <tbody>\n",
       "    <tr>\n",
       "      <th>0</th>\n",
       "      <td>3</td>\n",
       "      <td>64.0</td>\n",
       "      <td>70.0</td>\n",
       "      <td>20.0</td>\n",
       "      <td>10.0</td>\n",
       "      <td>2020-07-27 18:00:00</td>\n",
       "    </tr>\n",
       "    <tr>\n",
       "      <th>1</th>\n",
       "      <td>17</td>\n",
       "      <td>71.1</td>\n",
       "      <td>57.0</td>\n",
       "      <td>9.2</td>\n",
       "      <td>10.0</td>\n",
       "      <td>2017-09-30 17:00:00</td>\n",
       "    </tr>\n",
       "    <tr>\n",
       "      <th>2</th>\n",
       "      <td>16</td>\n",
       "      <td>57.9</td>\n",
       "      <td>87.0</td>\n",
       "      <td>15.0</td>\n",
       "      <td>9.0</td>\n",
       "      <td>2017-06-27 05:00:00</td>\n",
       "    </tr>\n",
       "    <tr>\n",
       "      <th>3</th>\n",
       "      <td>0</td>\n",
       "      <td>66.9</td>\n",
       "      <td>73.0</td>\n",
       "      <td>4.6</td>\n",
       "      <td>10.0</td>\n",
       "      <td>2016-09-07 09:00:00</td>\n",
       "    </tr>\n",
       "    <tr>\n",
       "      <th>4</th>\n",
       "      <td>3</td>\n",
       "      <td>52.0</td>\n",
       "      <td>89.0</td>\n",
       "      <td>0.0</td>\n",
       "      <td>9.0</td>\n",
       "      <td>2019-10-19 02:00:00</td>\n",
       "    </tr>\n",
       "  </tbody>\n",
       "</table>\n",
       "</div>"
      ],
      "text/plain": [
       "   Weather_Condition  Temperature(F)  Humidity(%)  Wind_Speed(mph)  \\\n",
       "0                  3            64.0         70.0             20.0   \n",
       "1                 17            71.1         57.0              9.2   \n",
       "2                 16            57.9         87.0             15.0   \n",
       "3                  0            66.9         73.0              4.6   \n",
       "4                  3            52.0         89.0              0.0   \n",
       "\n",
       "   Visibility(mi)           date_time  \n",
       "0            10.0 2020-07-27 18:00:00  \n",
       "1            10.0 2017-09-30 17:00:00  \n",
       "2             9.0 2017-06-27 05:00:00  \n",
       "3            10.0 2016-09-07 09:00:00  \n",
       "4             9.0 2019-10-19 02:00:00  "
      ]
     },
     "execution_count": 22,
     "metadata": {},
     "output_type": "execute_result"
    }
   ],
   "source": [
    "weather_df.head()"
   ]
  },
  {
   "cell_type": "code",
   "execution_count": 23,
   "metadata": {
    "execution": {
     "iopub.execute_input": "2021-07-27T00:18:07.616383Z",
     "iopub.status.busy": "2021-07-27T00:18:07.616184Z",
     "iopub.status.idle": "2021-07-27T00:18:07.637111Z",
     "shell.execute_reply": "2021-07-27T00:18:07.635826Z",
     "shell.execute_reply.started": "2021-07-27T00:18:07.616362Z"
    }
   },
   "outputs": [],
   "source": [
    "df_merged =pd.merge(df, weather_df, how='left', on=['date_time'])"
   ]
  },
  {
   "cell_type": "code",
   "execution_count": 24,
   "metadata": {
    "execution": {
     "iopub.execute_input": "2021-07-27T00:18:07.638275Z",
     "iopub.status.busy": "2021-07-27T00:18:07.638061Z",
     "iopub.status.idle": "2021-07-27T00:18:07.647316Z",
     "shell.execute_reply": "2021-07-27T00:18:07.646309Z",
     "shell.execute_reply.started": "2021-07-27T00:18:07.638249Z"
    }
   },
   "outputs": [],
   "source": [
    "df_merged.dropna(inplace=True)"
   ]
  },
  {
   "cell_type": "code",
   "execution_count": 25,
   "metadata": {
    "execution": {
     "iopub.execute_input": "2021-07-27T00:18:07.648903Z",
     "iopub.status.busy": "2021-07-27T00:18:07.648627Z",
     "iopub.status.idle": "2021-07-27T00:18:07.664117Z",
     "shell.execute_reply": "2021-07-27T00:18:07.663402Z",
     "shell.execute_reply.started": "2021-07-27T00:18:07.648874Z"
    }
   },
   "outputs": [
    {
     "name": "stdout",
     "output_type": "stream",
     "text": [
      "<class 'pandas.core.frame.DataFrame'>\n",
      "Int64Index: 6406 entries, 0 to 6406\n",
      "Data columns (total 21 columns):\n",
      " #   Column             Non-Null Count  Dtype         \n",
      "---  ------             --------------  -----         \n",
      " 0   ID                 6406 non-null   int64         \n",
      " 1   Lat                6406 non-null   float64       \n",
      " 2   Lng                6406 non-null   float64       \n",
      " 3   Distance(mi)       6406 non-null   float64       \n",
      " 4   Crossing           6406 non-null   int64         \n",
      " 5   Give_Way           6406 non-null   int64         \n",
      " 6   Junction           6406 non-null   int64         \n",
      " 7   No_Exit            6406 non-null   int64         \n",
      " 8   Railway            6406 non-null   int64         \n",
      " 9   Stop               6406 non-null   int64         \n",
      " 10  Amenity            6406 non-null   int64         \n",
      " 11  Side               6406 non-null   int64         \n",
      " 12  Severity           6406 non-null   int64         \n",
      " 13  timestamp          6406 non-null   datetime64[ns]\n",
      " 14  date_time          6406 non-null   datetime64[ns]\n",
      " 15  is_holiday         6406 non-null   int64         \n",
      " 16  Weather_Condition  6406 non-null   float64       \n",
      " 17  Temperature(F)     6406 non-null   float64       \n",
      " 18  Humidity(%)        6406 non-null   float64       \n",
      " 19  Wind_Speed(mph)    6406 non-null   float64       \n",
      " 20  Visibility(mi)     6406 non-null   float64       \n",
      "dtypes: datetime64[ns](2), float64(8), int64(11)\n",
      "memory usage: 1.1 MB\n"
     ]
    }
   ],
   "source": [
    "df_merged.info()"
   ]
  },
  {
   "cell_type": "code",
   "execution_count": 26,
   "metadata": {
    "execution": {
     "iopub.execute_input": "2021-07-27T00:18:07.668323Z",
     "iopub.status.busy": "2021-07-27T00:18:07.667557Z",
     "iopub.status.idle": "2021-07-27T00:18:07.695163Z",
     "shell.execute_reply": "2021-07-27T00:18:07.694006Z",
     "shell.execute_reply.started": "2021-07-27T00:18:07.668290Z"
    }
   },
   "outputs": [
    {
     "data": {
      "text/html": [
       "<div>\n",
       "<style scoped>\n",
       "    .dataframe tbody tr th:only-of-type {\n",
       "        vertical-align: middle;\n",
       "    }\n",
       "\n",
       "    .dataframe tbody tr th {\n",
       "        vertical-align: top;\n",
       "    }\n",
       "\n",
       "    .dataframe thead th {\n",
       "        text-align: right;\n",
       "    }\n",
       "</style>\n",
       "<table border=\"1\" class=\"dataframe\">\n",
       "  <thead>\n",
       "    <tr style=\"text-align: right;\">\n",
       "      <th></th>\n",
       "      <th>ID</th>\n",
       "      <th>Lat</th>\n",
       "      <th>Lng</th>\n",
       "      <th>Distance(mi)</th>\n",
       "      <th>Crossing</th>\n",
       "      <th>Give_Way</th>\n",
       "      <th>Junction</th>\n",
       "      <th>No_Exit</th>\n",
       "      <th>Railway</th>\n",
       "      <th>Stop</th>\n",
       "      <th>...</th>\n",
       "      <th>Side</th>\n",
       "      <th>Severity</th>\n",
       "      <th>timestamp</th>\n",
       "      <th>date_time</th>\n",
       "      <th>is_holiday</th>\n",
       "      <th>Weather_Condition</th>\n",
       "      <th>Temperature(F)</th>\n",
       "      <th>Humidity(%)</th>\n",
       "      <th>Wind_Speed(mph)</th>\n",
       "      <th>Visibility(mi)</th>\n",
       "    </tr>\n",
       "  </thead>\n",
       "  <tbody>\n",
       "    <tr>\n",
       "      <th>0</th>\n",
       "      <td>0</td>\n",
       "      <td>37.762150</td>\n",
       "      <td>-122.405660</td>\n",
       "      <td>0.044</td>\n",
       "      <td>0</td>\n",
       "      <td>0</td>\n",
       "      <td>0</td>\n",
       "      <td>0</td>\n",
       "      <td>0</td>\n",
       "      <td>0</td>\n",
       "      <td>...</td>\n",
       "      <td>1</td>\n",
       "      <td>2</td>\n",
       "      <td>2016-03-25 15:13:02</td>\n",
       "      <td>2016-03-25 15:00:00</td>\n",
       "      <td>0</td>\n",
       "      <td>22.0</td>\n",
       "      <td>64.0</td>\n",
       "      <td>58.0</td>\n",
       "      <td>23.0</td>\n",
       "      <td>10.0</td>\n",
       "    </tr>\n",
       "    <tr>\n",
       "      <th>1</th>\n",
       "      <td>1</td>\n",
       "      <td>37.719157</td>\n",
       "      <td>-122.448254</td>\n",
       "      <td>0.000</td>\n",
       "      <td>0</td>\n",
       "      <td>0</td>\n",
       "      <td>0</td>\n",
       "      <td>0</td>\n",
       "      <td>0</td>\n",
       "      <td>0</td>\n",
       "      <td>...</td>\n",
       "      <td>1</td>\n",
       "      <td>2</td>\n",
       "      <td>2020-05-05 19:23:00</td>\n",
       "      <td>2020-05-05 19:00:00</td>\n",
       "      <td>0</td>\n",
       "      <td>15.0</td>\n",
       "      <td>57.0</td>\n",
       "      <td>83.0</td>\n",
       "      <td>22.0</td>\n",
       "      <td>10.0</td>\n",
       "    </tr>\n",
       "    <tr>\n",
       "      <th>2</th>\n",
       "      <td>2</td>\n",
       "      <td>37.808498</td>\n",
       "      <td>-122.366852</td>\n",
       "      <td>0.000</td>\n",
       "      <td>0</td>\n",
       "      <td>0</td>\n",
       "      <td>0</td>\n",
       "      <td>0</td>\n",
       "      <td>0</td>\n",
       "      <td>1</td>\n",
       "      <td>...</td>\n",
       "      <td>1</td>\n",
       "      <td>3</td>\n",
       "      <td>2016-09-16 19:57:16</td>\n",
       "      <td>2016-09-16 19:00:00</td>\n",
       "      <td>0</td>\n",
       "      <td>0.0</td>\n",
       "      <td>62.1</td>\n",
       "      <td>80.0</td>\n",
       "      <td>9.2</td>\n",
       "      <td>10.0</td>\n",
       "    </tr>\n",
       "    <tr>\n",
       "      <th>3</th>\n",
       "      <td>3</td>\n",
       "      <td>37.785930</td>\n",
       "      <td>-122.391080</td>\n",
       "      <td>0.009</td>\n",
       "      <td>0</td>\n",
       "      <td>0</td>\n",
       "      <td>1</td>\n",
       "      <td>0</td>\n",
       "      <td>0</td>\n",
       "      <td>0</td>\n",
       "      <td>...</td>\n",
       "      <td>1</td>\n",
       "      <td>1</td>\n",
       "      <td>2020-03-29 19:48:43</td>\n",
       "      <td>2020-03-29 19:00:00</td>\n",
       "      <td>0</td>\n",
       "      <td>3.0</td>\n",
       "      <td>58.0</td>\n",
       "      <td>70.0</td>\n",
       "      <td>10.0</td>\n",
       "      <td>10.0</td>\n",
       "    </tr>\n",
       "    <tr>\n",
       "      <th>4</th>\n",
       "      <td>4</td>\n",
       "      <td>37.719141</td>\n",
       "      <td>-122.448457</td>\n",
       "      <td>0.000</td>\n",
       "      <td>0</td>\n",
       "      <td>0</td>\n",
       "      <td>0</td>\n",
       "      <td>0</td>\n",
       "      <td>0</td>\n",
       "      <td>0</td>\n",
       "      <td>...</td>\n",
       "      <td>1</td>\n",
       "      <td>2</td>\n",
       "      <td>2019-10-09 08:47:00</td>\n",
       "      <td>2019-10-09 08:00:00</td>\n",
       "      <td>0</td>\n",
       "      <td>3.0</td>\n",
       "      <td>58.0</td>\n",
       "      <td>65.0</td>\n",
       "      <td>3.0</td>\n",
       "      <td>10.0</td>\n",
       "    </tr>\n",
       "  </tbody>\n",
       "</table>\n",
       "<p>5 rows × 21 columns</p>\n",
       "</div>"
      ],
      "text/plain": [
       "   ID        Lat         Lng  Distance(mi)  Crossing  Give_Way  Junction  \\\n",
       "0   0  37.762150 -122.405660         0.044         0         0         0   \n",
       "1   1  37.719157 -122.448254         0.000         0         0         0   \n",
       "2   2  37.808498 -122.366852         0.000         0         0         0   \n",
       "3   3  37.785930 -122.391080         0.009         0         0         1   \n",
       "4   4  37.719141 -122.448457         0.000         0         0         0   \n",
       "\n",
       "   No_Exit  Railway  Stop  ...  Side  Severity           timestamp  \\\n",
       "0        0        0     0  ...     1         2 2016-03-25 15:13:02   \n",
       "1        0        0     0  ...     1         2 2020-05-05 19:23:00   \n",
       "2        0        0     1  ...     1         3 2016-09-16 19:57:16   \n",
       "3        0        0     0  ...     1         1 2020-03-29 19:48:43   \n",
       "4        0        0     0  ...     1         2 2019-10-09 08:47:00   \n",
       "\n",
       "            date_time is_holiday  Weather_Condition  Temperature(F)  \\\n",
       "0 2016-03-25 15:00:00          0               22.0            64.0   \n",
       "1 2020-05-05 19:00:00          0               15.0            57.0   \n",
       "2 2016-09-16 19:00:00          0                0.0            62.1   \n",
       "3 2020-03-29 19:00:00          0                3.0            58.0   \n",
       "4 2019-10-09 08:00:00          0                3.0            58.0   \n",
       "\n",
       "   Humidity(%)  Wind_Speed(mph)  Visibility(mi)  \n",
       "0         58.0             23.0            10.0  \n",
       "1         83.0             22.0            10.0  \n",
       "2         80.0              9.2            10.0  \n",
       "3         70.0             10.0            10.0  \n",
       "4         65.0              3.0            10.0  \n",
       "\n",
       "[5 rows x 21 columns]"
      ]
     },
     "execution_count": 26,
     "metadata": {},
     "output_type": "execute_result"
    }
   ],
   "source": [
    "df_merged.head()"
   ]
  },
  {
   "cell_type": "code",
   "execution_count": 27,
   "metadata": {
    "execution": {
     "iopub.execute_input": "2021-07-27T00:18:07.696657Z",
     "iopub.status.busy": "2021-07-27T00:18:07.696418Z",
     "iopub.status.idle": "2021-07-27T00:18:07.712786Z",
     "shell.execute_reply": "2021-07-27T00:18:07.711749Z",
     "shell.execute_reply.started": "2021-07-27T00:18:07.696635Z"
    }
   },
   "outputs": [],
   "source": [
    "corr_matrix = df_merged.drop(columns=['ID']).corr()"
   ]
  },
  {
   "cell_type": "code",
   "execution_count": 28,
   "metadata": {
    "execution": {
     "iopub.execute_input": "2021-07-27T00:18:07.715004Z",
     "iopub.status.busy": "2021-07-27T00:18:07.714705Z",
     "iopub.status.idle": "2021-07-27T00:18:07.723629Z",
     "shell.execute_reply": "2021-07-27T00:18:07.722429Z",
     "shell.execute_reply.started": "2021-07-27T00:18:07.714946Z"
    }
   },
   "outputs": [
    {
     "data": {
      "text/plain": [
       "Severity             1.000000\n",
       "Stop                 0.229373\n",
       "Lng                  0.145331\n",
       "Weather_Condition    0.104449\n",
       "Lat                  0.099815\n",
       "Humidity(%)          0.076742\n",
       "Side                 0.060505\n",
       "Wind_Speed(mph)      0.021897\n",
       "is_holiday           0.003168\n",
       "No_Exit             -0.007033\n",
       "Give_Way            -0.012183\n",
       "Distance(mi)        -0.013071\n",
       "Visibility(mi)      -0.015716\n",
       "Temperature(F)      -0.018306\n",
       "Railway             -0.033292\n",
       "Junction            -0.068724\n",
       "Amenity             -0.078885\n",
       "Crossing            -0.090264\n",
       "Name: Severity, dtype: float64"
      ]
     },
     "execution_count": 28,
     "metadata": {},
     "output_type": "execute_result"
    }
   ],
   "source": [
    "corr_matrix[\"Severity\"].sort_values(ascending=False)"
   ]
  },
  {
   "cell_type": "code",
   "execution_count": 29,
   "metadata": {
    "execution": {
     "iopub.execute_input": "2021-07-27T00:18:07.725077Z",
     "iopub.status.busy": "2021-07-27T00:18:07.724786Z",
     "iopub.status.idle": "2021-07-27T00:18:07.733680Z",
     "shell.execute_reply": "2021-07-27T00:18:07.732782Z",
     "shell.execute_reply.started": "2021-07-27T00:18:07.725049Z"
    }
   },
   "outputs": [],
   "source": [
    "df_merged.drop(columns=['date_time','timestamp'],inplace=True)"
   ]
  },
  {
   "cell_type": "code",
   "execution_count": 30,
   "metadata": {
    "execution": {
     "iopub.execute_input": "2021-07-27T00:18:07.735251Z",
     "iopub.status.busy": "2021-07-27T00:18:07.734913Z",
     "iopub.status.idle": "2021-07-27T00:18:07.750193Z",
     "shell.execute_reply": "2021-07-27T00:18:07.749189Z",
     "shell.execute_reply.started": "2021-07-27T00:18:07.735215Z"
    }
   },
   "outputs": [
    {
     "data": {
      "text/plain": [
       "0    6258\n",
       "1     148\n",
       "Name: is_holiday, dtype: int64"
      ]
     },
     "execution_count": 30,
     "metadata": {},
     "output_type": "execute_result"
    }
   ],
   "source": [
    "df_merged['is_holiday'].value_counts()"
   ]
  },
  {
   "cell_type": "markdown",
   "metadata": {
    "papermill": {
     "duration": 0.011808,
     "end_time": "2021-06-04T18:20:08.89742",
     "exception": false,
     "start_time": "2021-06-04T18:20:08.885612",
     "status": "completed"
    },
    "tags": []
   },
   "source": [
    "## Data Splitting\n",
    "\n",
    "Now it's time to split the dataset for the training step. Typically the dataset is split into 3 subsets, namely, the training, validation and test sets. In our case, the test set is already predefined. So we'll split the \"training\" set into training and validation sets with 0.8:0.2 ratio. \n",
    "\n",
    "*Note: a good way to generate reproducible results is to set the seed to the algorithms that depends on randomization. This is done with the argument `random_state` in the following command* "
   ]
  },
  {
   "cell_type": "code",
   "execution_count": 31,
   "metadata": {
    "execution": {
     "iopub.execute_input": "2021-07-27T00:18:07.751736Z",
     "iopub.status.busy": "2021-07-27T00:18:07.751459Z",
     "iopub.status.idle": "2021-07-27T00:18:07.812817Z",
     "shell.execute_reply": "2021-07-27T00:18:07.811796Z",
     "shell.execute_reply.started": "2021-07-27T00:18:07.751709Z"
    },
    "papermill": {
     "duration": 1.125829,
     "end_time": "2021-06-04T18:20:10.035208",
     "exception": false,
     "start_time": "2021-06-04T18:20:08.909379",
     "status": "completed"
    },
    "tags": []
   },
   "outputs": [],
   "source": [
    "from sklearn.model_selection import train_test_split\n",
    "\n",
    "train_df, val_df = train_test_split(df_merged, test_size=0.2, random_state=42) # Try adding `stratify` here\n",
    "\n",
    "X_train = train_df.drop(columns=['ID', 'Severity'])\n",
    "y_train = train_df['Severity']\n",
    "\n",
    "X_val = val_df.drop(columns=['ID', 'Severity'])\n",
    "y_val = val_df['Severity']"
   ]
  },
  {
   "cell_type": "code",
   "execution_count": 32,
   "metadata": {
    "execution": {
     "iopub.execute_input": "2021-07-27T00:18:07.815611Z",
     "iopub.status.busy": "2021-07-27T00:18:07.815216Z",
     "iopub.status.idle": "2021-07-27T00:18:08.762863Z",
     "shell.execute_reply": "2021-07-27T00:18:08.762381Z",
     "shell.execute_reply.started": "2021-07-27T00:18:07.815572Z"
    }
   },
   "outputs": [
    {
     "data": {
      "text/plain": [
       "Index(['Lat', 'Lng', 'Distance(mi)', 'Weather_Condition', 'Temperature(F)',\n",
       "       'Humidity(%)', 'Wind_Speed(mph)'],\n",
       "      dtype='object')"
      ]
     },
     "execution_count": 32,
     "metadata": {},
     "output_type": "execute_result"
    }
   ],
   "source": [
    "from sklearn.feature_selection import SelectFromModel\n",
    "from sklearn.ensemble import RandomForestClassifier\n",
    "sel = SelectFromModel(RandomForestClassifier(n_estimators = 100))\n",
    "sel.fit(X_train, y_train)\n",
    "sel.get_support()\n",
    "X_train.columns[(sel.get_support())]"
   ]
  },
  {
   "cell_type": "markdown",
   "metadata": {},
   "source": [
    "As pointed out eariler, I'll use the numerical features to train the classifier. **However, you shouldn't use the numerical features only to make the final submission if you want to make it to the top of the leaderboard.** "
   ]
  },
  {
   "cell_type": "code",
   "execution_count": 33,
   "metadata": {
    "execution": {
     "iopub.execute_input": "2021-07-27T00:18:08.763874Z",
     "iopub.status.busy": "2021-07-27T00:18:08.763606Z",
     "iopub.status.idle": "2021-07-27T00:18:08.769362Z",
     "shell.execute_reply": "2021-07-27T00:18:08.768511Z",
     "shell.execute_reply.started": "2021-07-27T00:18:08.763853Z"
    }
   },
   "outputs": [],
   "source": [
    "# This cell is used to select the numerical features. IT SHOULD BE REMOVED AS YOU DO YOUR WORK.\n",
    "X_train = X_train[['Lat', 'Lng', 'Distance(mi)', 'Temperature(F)',\n",
    "       'Humidity(%)', 'Wind_Speed(mph)']]\n",
    "\n",
    "X_val = X_val[['Lat', 'Lng', 'Distance(mi)', 'Temperature(F)',\n",
    "       'Humidity(%)', 'Wind_Speed(mph)']]"
   ]
  },
  {
   "cell_type": "markdown",
   "metadata": {
    "papermill": {
     "duration": 0.013313,
     "end_time": "2021-06-04T18:20:10.060544",
     "exception": false,
     "start_time": "2021-06-04T18:20:10.047231",
     "status": "completed"
    },
    "tags": []
   },
   "source": [
    "## Model Training\n",
    "\n",
    "Let's train a model with the data! We'll train a Random Forest Classifier to demonstrate the process of making submissions. "
   ]
  },
  {
   "cell_type": "code",
   "execution_count": 34,
   "metadata": {
    "execution": {
     "iopub.execute_input": "2021-07-27T00:18:08.770843Z",
     "iopub.status.busy": "2021-07-27T00:18:08.770198Z",
     "iopub.status.idle": "2021-07-27T00:18:09.537096Z",
     "shell.execute_reply": "2021-07-27T00:18:09.536153Z",
     "shell.execute_reply.started": "2021-07-27T00:18:08.770818Z"
    }
   },
   "outputs": [],
   "source": [
    "from sklearn.ensemble import RandomForestClassifier\n",
    "\n",
    "# Create an instance of the classifier\n",
    "classifier = RandomForestClassifier(max_depth=2,random_state=0)\n",
    "\n",
    "# Train the classifier\n",
    "classifier = classifier.fit(X_train, y_train)"
   ]
  },
  {
   "cell_type": "markdown",
   "metadata": {
    "papermill": {
     "duration": 0.022394,
     "end_time": "2021-06-04T18:20:12.327521",
     "exception": false,
     "start_time": "2021-06-04T18:20:12.305127",
     "status": "completed"
    },
    "tags": []
   },
   "source": [
    "Now let's test our classifier on the validation dataset and see the accuracy."
   ]
  },
  {
   "cell_type": "code",
   "execution_count": 35,
   "metadata": {
    "execution": {
     "iopub.execute_input": "2021-07-27T00:18:09.538346Z",
     "iopub.status.busy": "2021-07-27T00:18:09.538130Z",
     "iopub.status.idle": "2021-07-27T00:18:09.577376Z",
     "shell.execute_reply": "2021-07-27T00:18:09.576358Z",
     "shell.execute_reply.started": "2021-07-27T00:18:09.538325Z"
    }
   },
   "outputs": [
    {
     "name": "stdout",
     "output_type": "stream",
     "text": [
      "The accuracy of the classifier on the validation set is  0.748829953198128\n"
     ]
    }
   ],
   "source": [
    "print(\"The accuracy of the classifier on the validation set is \", (classifier.score(X_val, y_val)))"
   ]
  },
  {
   "cell_type": "markdown",
   "metadata": {
    "papermill": {
     "duration": 0.022624,
     "end_time": "2021-06-04T18:20:12.449016",
     "exception": false,
     "start_time": "2021-06-04T18:20:12.426392",
     "status": "completed"
    },
    "tags": []
   },
   "source": [
    "Well. That's a good start, right? A classifier that predicts all examples' `Severity` as 2 will get around 0.63. You should get better score as you add more features and do better data preprocessing."
   ]
  },
  {
   "cell_type": "markdown",
   "metadata": {
    "papermill": {
     "duration": 0.023075,
     "end_time": "2021-06-04T18:20:12.495824",
     "exception": false,
     "start_time": "2021-06-04T18:20:12.472749",
     "status": "completed"
    },
    "tags": []
   },
   "source": [
    "## Submission File Generation\n",
    "\n",
    "We have built a model and we'd like to submit our predictions on the test set! In order to do that, we'll load the test set, predict the class and save the submission file. \n",
    "\n",
    "First, we'll load the data."
   ]
  },
  {
   "cell_type": "code",
   "execution_count": 33,
   "metadata": {
    "execution": {
     "iopub.execute_input": "2021-07-27T00:18:09.578867Z",
     "iopub.status.busy": "2021-07-27T00:18:09.578597Z",
     "iopub.status.idle": "2021-07-27T00:18:09.616701Z",
     "shell.execute_reply": "2021-07-27T00:18:09.615618Z",
     "shell.execute_reply.started": "2021-07-27T00:18:09.578837Z"
    },
    "papermill": {
     "duration": 0.056131,
     "end_time": "2021-06-04T18:20:12.568677",
     "exception": false,
     "start_time": "2021-06-04T18:20:12.512546",
     "status": "completed"
    },
    "tags": []
   },
   "outputs": [
    {
     "data": {
      "text/html": [
       "<div>\n",
       "<style scoped>\n",
       "    .dataframe tbody tr th:only-of-type {\n",
       "        vertical-align: middle;\n",
       "    }\n",
       "\n",
       "    .dataframe tbody tr th {\n",
       "        vertical-align: top;\n",
       "    }\n",
       "\n",
       "    .dataframe thead th {\n",
       "        text-align: right;\n",
       "    }\n",
       "</style>\n",
       "<table border=\"1\" class=\"dataframe\">\n",
       "  <thead>\n",
       "    <tr style=\"text-align: right;\">\n",
       "      <th></th>\n",
       "      <th>ID</th>\n",
       "      <th>Lat</th>\n",
       "      <th>Lng</th>\n",
       "      <th>Bump</th>\n",
       "      <th>Distance(mi)</th>\n",
       "      <th>Crossing</th>\n",
       "      <th>Give_Way</th>\n",
       "      <th>Junction</th>\n",
       "      <th>No_Exit</th>\n",
       "      <th>Railway</th>\n",
       "      <th>Roundabout</th>\n",
       "      <th>Stop</th>\n",
       "      <th>Amenity</th>\n",
       "      <th>Side</th>\n",
       "      <th>timestamp</th>\n",
       "    </tr>\n",
       "  </thead>\n",
       "  <tbody>\n",
       "    <tr>\n",
       "      <th>0</th>\n",
       "      <td>6407</td>\n",
       "      <td>37.786060</td>\n",
       "      <td>-122.390900</td>\n",
       "      <td>False</td>\n",
       "      <td>0.039</td>\n",
       "      <td>False</td>\n",
       "      <td>False</td>\n",
       "      <td>True</td>\n",
       "      <td>False</td>\n",
       "      <td>False</td>\n",
       "      <td>False</td>\n",
       "      <td>False</td>\n",
       "      <td>False</td>\n",
       "      <td>R</td>\n",
       "      <td>2016-04-04 19:20:31</td>\n",
       "    </tr>\n",
       "    <tr>\n",
       "      <th>1</th>\n",
       "      <td>6408</td>\n",
       "      <td>37.769609</td>\n",
       "      <td>-122.415057</td>\n",
       "      <td>False</td>\n",
       "      <td>0.202</td>\n",
       "      <td>False</td>\n",
       "      <td>False</td>\n",
       "      <td>False</td>\n",
       "      <td>False</td>\n",
       "      <td>False</td>\n",
       "      <td>False</td>\n",
       "      <td>False</td>\n",
       "      <td>False</td>\n",
       "      <td>R</td>\n",
       "      <td>2020-10-28 11:51:00</td>\n",
       "    </tr>\n",
       "    <tr>\n",
       "      <th>2</th>\n",
       "      <td>6409</td>\n",
       "      <td>37.807495</td>\n",
       "      <td>-122.476021</td>\n",
       "      <td>False</td>\n",
       "      <td>0.000</td>\n",
       "      <td>False</td>\n",
       "      <td>False</td>\n",
       "      <td>False</td>\n",
       "      <td>False</td>\n",
       "      <td>False</td>\n",
       "      <td>False</td>\n",
       "      <td>False</td>\n",
       "      <td>False</td>\n",
       "      <td>R</td>\n",
       "      <td>2019-09-09 07:36:45</td>\n",
       "    </tr>\n",
       "    <tr>\n",
       "      <th>3</th>\n",
       "      <td>6410</td>\n",
       "      <td>37.761818</td>\n",
       "      <td>-122.405869</td>\n",
       "      <td>False</td>\n",
       "      <td>0.000</td>\n",
       "      <td>False</td>\n",
       "      <td>False</td>\n",
       "      <td>True</td>\n",
       "      <td>False</td>\n",
       "      <td>False</td>\n",
       "      <td>False</td>\n",
       "      <td>False</td>\n",
       "      <td>False</td>\n",
       "      <td>R</td>\n",
       "      <td>2019-08-06 15:46:25</td>\n",
       "    </tr>\n",
       "    <tr>\n",
       "      <th>4</th>\n",
       "      <td>6411</td>\n",
       "      <td>37.732350</td>\n",
       "      <td>-122.414100</td>\n",
       "      <td>False</td>\n",
       "      <td>0.670</td>\n",
       "      <td>False</td>\n",
       "      <td>False</td>\n",
       "      <td>False</td>\n",
       "      <td>False</td>\n",
       "      <td>False</td>\n",
       "      <td>False</td>\n",
       "      <td>False</td>\n",
       "      <td>False</td>\n",
       "      <td>R</td>\n",
       "      <td>2018-10-17 09:54:58</td>\n",
       "    </tr>\n",
       "  </tbody>\n",
       "</table>\n",
       "</div>"
      ],
      "text/plain": [
       "     ID        Lat         Lng   Bump  Distance(mi)  Crossing  Give_Way  \\\n",
       "0  6407  37.786060 -122.390900  False         0.039     False     False   \n",
       "1  6408  37.769609 -122.415057  False         0.202     False     False   \n",
       "2  6409  37.807495 -122.476021  False         0.000     False     False   \n",
       "3  6410  37.761818 -122.405869  False         0.000     False     False   \n",
       "4  6411  37.732350 -122.414100  False         0.670     False     False   \n",
       "\n",
       "   Junction  No_Exit  Railway  Roundabout   Stop  Amenity Side  \\\n",
       "0      True    False    False       False  False    False    R   \n",
       "1     False    False    False       False  False    False    R   \n",
       "2     False    False    False       False  False    False    R   \n",
       "3      True    False    False       False  False    False    R   \n",
       "4     False    False    False       False  False    False    R   \n",
       "\n",
       "             timestamp  \n",
       "0  2016-04-04 19:20:31  \n",
       "1  2020-10-28 11:51:00  \n",
       "2  2019-09-09 07:36:45  \n",
       "3  2019-08-06 15:46:25  \n",
       "4  2018-10-17 09:54:58  "
      ]
     },
     "execution_count": 33,
     "metadata": {},
     "output_type": "execute_result"
    }
   ],
   "source": [
    "test_df = pd.read_csv(os.path.join(dataset_path, 'test.csv'))\n",
    "test_df.head()"
   ]
  },
  {
   "cell_type": "markdown",
   "metadata": {
    "papermill": {
     "duration": 0.01243,
     "end_time": "2021-06-04T18:20:12.593691",
     "exception": false,
     "start_time": "2021-06-04T18:20:12.581261",
     "status": "completed"
    },
    "tags": []
   },
   "source": [
    "Note that the test set has the same features and doesn't have the `Severity` column.\n",
    "At this stage one must **NOT** forget to apply the same processing done on the training set on the features of the test set.\n",
    "\n",
    "Now we'll add `Severity` column to the test `DataFrame` and add the values of the predicted class to it.\n",
    "\n",
    "**I'll select the numerical features here as I did in the training set. DO NOT forget to change this step as you change the preprocessing of the training data.**"
   ]
  },
  {
   "cell_type": "code",
   "execution_count": 34,
   "metadata": {
    "execution": {
     "iopub.execute_input": "2021-07-27T00:18:09.618151Z",
     "iopub.status.busy": "2021-07-27T00:18:09.617897Z",
     "iopub.status.idle": "2021-07-27T00:18:09.675355Z",
     "shell.execute_reply": "2021-07-27T00:18:09.674528Z",
     "shell.execute_reply.started": "2021-07-27T00:18:09.618124Z"
    }
   },
   "outputs": [
    {
     "name": "stdout",
     "output_type": "stream",
     "text": [
      "<class 'pandas.core.frame.DataFrame'>\n",
      "Int64Index: 1601 entries, 0 to 1600\n",
      "Data columns (total 18 columns):\n",
      " #   Column             Non-Null Count  Dtype  \n",
      "---  ------             --------------  -----  \n",
      " 0   ID                 1601 non-null   int64  \n",
      " 1   Lat                1601 non-null   float64\n",
      " 2   Lng                1601 non-null   float64\n",
      " 3   Distance(mi)       1601 non-null   float64\n",
      " 4   Crossing           1601 non-null   int64  \n",
      " 5   Give_Way           1601 non-null   int64  \n",
      " 6   Junction           1601 non-null   int64  \n",
      " 7   No_Exit            1601 non-null   int64  \n",
      " 8   Railway            1601 non-null   int64  \n",
      " 9   Stop               1601 non-null   int64  \n",
      " 10  Amenity            1601 non-null   int64  \n",
      " 11  Side               1601 non-null   int64  \n",
      " 12  is_holiday         1601 non-null   int64  \n",
      " 13  Weather_Condition  1601 non-null   int64  \n",
      " 14  Temperature(F)     1601 non-null   float64\n",
      " 15  Humidity(%)        1601 non-null   float64\n",
      " 16  Wind_Speed(mph)    1601 non-null   float64\n",
      " 17  Visibility(mi)     1601 non-null   float64\n",
      "dtypes: float64(7), int64(11)\n",
      "memory usage: 237.6 KB\n"
     ]
    }
   ],
   "source": [
    "test_df.drop(columns=['Bump','Roundabout'],inplace=True)\n",
    "test_df['timestamp']=pd.to_datetime(test_df['timestamp'])\n",
    "test_df['date_time']=pd.to_datetime(test_df['timestamp'].dt.strftime('%Y-%m-%d %H:00:00'))\n",
    "\n",
    "\n",
    "test_df['Crossing'] = test_df['Crossing'].astype('int')\n",
    "test_df['Give_Way'] = test_df['Give_Way'].astype('int')\n",
    "test_df['Junction'] = test_df['Junction'].astype('int')\n",
    "test_df['No_Exit'] = test_df['No_Exit'].astype('int')\n",
    "test_df['Railway'] = test_df['Railway'].astype('int')\n",
    "test_df['Stop'] = test_df['Stop'].astype('int')\n",
    "test_df['Amenity'] = test_df['Amenity'].astype('int')\n",
    "\n",
    "test_df['Side'] = labelencoder.fit_transform(test_df['Side'])\n",
    "\n",
    "test_df['is_holiday']=test_df['timestamp'].dt.date.isin(holidays_df['date'].dt.date).astype(int)  \n",
    "\n",
    "test_df_merged =pd.merge(test_df, weather_df, how='left', on=['date_time'])\n",
    "\n",
    "test_df_merged.dropna(inplace=True)\n",
    "\n",
    "test_df_merged.drop(columns=['date_time','timestamp'],inplace=True)\n",
    "test_df_merged.info()"
   ]
  },
  {
   "cell_type": "code",
   "execution_count": 35,
   "metadata": {
    "execution": {
     "iopub.execute_input": "2021-07-27T00:18:09.676790Z",
     "iopub.status.busy": "2021-07-27T00:18:09.676529Z",
     "iopub.status.idle": "2021-07-27T00:18:09.698371Z",
     "shell.execute_reply": "2021-07-27T00:18:09.697344Z",
     "shell.execute_reply.started": "2021-07-27T00:18:09.676763Z"
    }
   },
   "outputs": [
    {
     "data": {
      "text/html": [
       "<div>\n",
       "<style scoped>\n",
       "    .dataframe tbody tr th:only-of-type {\n",
       "        vertical-align: middle;\n",
       "    }\n",
       "\n",
       "    .dataframe tbody tr th {\n",
       "        vertical-align: top;\n",
       "    }\n",
       "\n",
       "    .dataframe thead th {\n",
       "        text-align: right;\n",
       "    }\n",
       "</style>\n",
       "<table border=\"1\" class=\"dataframe\">\n",
       "  <thead>\n",
       "    <tr style=\"text-align: right;\">\n",
       "      <th></th>\n",
       "      <th>ID</th>\n",
       "      <th>Lat</th>\n",
       "      <th>Lng</th>\n",
       "      <th>Distance(mi)</th>\n",
       "      <th>Crossing</th>\n",
       "      <th>Give_Way</th>\n",
       "      <th>Junction</th>\n",
       "      <th>No_Exit</th>\n",
       "      <th>Railway</th>\n",
       "      <th>Stop</th>\n",
       "      <th>Amenity</th>\n",
       "      <th>Side</th>\n",
       "      <th>is_holiday</th>\n",
       "      <th>Weather_Condition</th>\n",
       "      <th>Temperature(F)</th>\n",
       "      <th>Humidity(%)</th>\n",
       "      <th>Wind_Speed(mph)</th>\n",
       "      <th>Visibility(mi)</th>\n",
       "    </tr>\n",
       "  </thead>\n",
       "  <tbody>\n",
       "    <tr>\n",
       "      <th>0</th>\n",
       "      <td>6407</td>\n",
       "      <td>37.786060</td>\n",
       "      <td>-122.390900</td>\n",
       "      <td>0.039</td>\n",
       "      <td>0</td>\n",
       "      <td>0</td>\n",
       "      <td>1</td>\n",
       "      <td>0</td>\n",
       "      <td>0</td>\n",
       "      <td>0</td>\n",
       "      <td>0</td>\n",
       "      <td>1</td>\n",
       "      <td>0</td>\n",
       "      <td>17</td>\n",
       "      <td>63.0</td>\n",
       "      <td>60.0</td>\n",
       "      <td>10.4</td>\n",
       "      <td>10.0</td>\n",
       "    </tr>\n",
       "    <tr>\n",
       "      <th>1</th>\n",
       "      <td>6408</td>\n",
       "      <td>37.769609</td>\n",
       "      <td>-122.415057</td>\n",
       "      <td>0.202</td>\n",
       "      <td>0</td>\n",
       "      <td>0</td>\n",
       "      <td>0</td>\n",
       "      <td>0</td>\n",
       "      <td>0</td>\n",
       "      <td>0</td>\n",
       "      <td>0</td>\n",
       "      <td>1</td>\n",
       "      <td>0</td>\n",
       "      <td>3</td>\n",
       "      <td>65.0</td>\n",
       "      <td>56.0</td>\n",
       "      <td>5.0</td>\n",
       "      <td>9.0</td>\n",
       "    </tr>\n",
       "    <tr>\n",
       "      <th>2</th>\n",
       "      <td>6409</td>\n",
       "      <td>37.807495</td>\n",
       "      <td>-122.476021</td>\n",
       "      <td>0.000</td>\n",
       "      <td>0</td>\n",
       "      <td>0</td>\n",
       "      <td>0</td>\n",
       "      <td>0</td>\n",
       "      <td>0</td>\n",
       "      <td>0</td>\n",
       "      <td>0</td>\n",
       "      <td>1</td>\n",
       "      <td>0</td>\n",
       "      <td>14</td>\n",
       "      <td>58.0</td>\n",
       "      <td>90.0</td>\n",
       "      <td>18.0</td>\n",
       "      <td>10.0</td>\n",
       "    </tr>\n",
       "    <tr>\n",
       "      <th>3</th>\n",
       "      <td>6410</td>\n",
       "      <td>37.761818</td>\n",
       "      <td>-122.405869</td>\n",
       "      <td>0.000</td>\n",
       "      <td>0</td>\n",
       "      <td>0</td>\n",
       "      <td>1</td>\n",
       "      <td>0</td>\n",
       "      <td>0</td>\n",
       "      <td>0</td>\n",
       "      <td>0</td>\n",
       "      <td>1</td>\n",
       "      <td>0</td>\n",
       "      <td>3</td>\n",
       "      <td>72.0</td>\n",
       "      <td>59.0</td>\n",
       "      <td>17.0</td>\n",
       "      <td>10.0</td>\n",
       "    </tr>\n",
       "    <tr>\n",
       "      <th>4</th>\n",
       "      <td>6411</td>\n",
       "      <td>37.732350</td>\n",
       "      <td>-122.414100</td>\n",
       "      <td>0.670</td>\n",
       "      <td>0</td>\n",
       "      <td>0</td>\n",
       "      <td>0</td>\n",
       "      <td>0</td>\n",
       "      <td>0</td>\n",
       "      <td>0</td>\n",
       "      <td>0</td>\n",
       "      <td>1</td>\n",
       "      <td>0</td>\n",
       "      <td>22</td>\n",
       "      <td>57.0</td>\n",
       "      <td>77.0</td>\n",
       "      <td>5.8</td>\n",
       "      <td>10.0</td>\n",
       "    </tr>\n",
       "  </tbody>\n",
       "</table>\n",
       "</div>"
      ],
      "text/plain": [
       "     ID        Lat         Lng  Distance(mi)  Crossing  Give_Way  Junction  \\\n",
       "0  6407  37.786060 -122.390900         0.039         0         0         1   \n",
       "1  6408  37.769609 -122.415057         0.202         0         0         0   \n",
       "2  6409  37.807495 -122.476021         0.000         0         0         0   \n",
       "3  6410  37.761818 -122.405869         0.000         0         0         1   \n",
       "4  6411  37.732350 -122.414100         0.670         0         0         0   \n",
       "\n",
       "   No_Exit  Railway  Stop  Amenity  Side  is_holiday  Weather_Condition  \\\n",
       "0        0        0     0        0     1           0                 17   \n",
       "1        0        0     0        0     1           0                  3   \n",
       "2        0        0     0        0     1           0                 14   \n",
       "3        0        0     0        0     1           0                  3   \n",
       "4        0        0     0        0     1           0                 22   \n",
       "\n",
       "   Temperature(F)  Humidity(%)  Wind_Speed(mph)  Visibility(mi)  \n",
       "0            63.0         60.0             10.4            10.0  \n",
       "1            65.0         56.0              5.0             9.0  \n",
       "2            58.0         90.0             18.0            10.0  \n",
       "3            72.0         59.0             17.0            10.0  \n",
       "4            57.0         77.0              5.8            10.0  "
      ]
     },
     "execution_count": 35,
     "metadata": {},
     "output_type": "execute_result"
    }
   ],
   "source": [
    "test_df_merged.head()"
   ]
  },
  {
   "cell_type": "code",
   "execution_count": 36,
   "metadata": {
    "execution": {
     "iopub.execute_input": "2021-07-27T00:18:09.699924Z",
     "iopub.status.busy": "2021-07-27T00:18:09.699665Z",
     "iopub.status.idle": "2021-07-27T00:18:09.766629Z",
     "shell.execute_reply": "2021-07-27T00:18:09.765652Z",
     "shell.execute_reply.started": "2021-07-27T00:18:09.699898Z"
    },
    "papermill": {
     "duration": 0.057034,
     "end_time": "2021-06-04T18:20:12.663409",
     "exception": false,
     "start_time": "2021-06-04T18:20:12.606375",
     "status": "completed"
    },
    "tags": []
   },
   "outputs": [
    {
     "data": {
      "text/html": [
       "<div>\n",
       "<style scoped>\n",
       "    .dataframe tbody tr th:only-of-type {\n",
       "        vertical-align: middle;\n",
       "    }\n",
       "\n",
       "    .dataframe tbody tr th {\n",
       "        vertical-align: top;\n",
       "    }\n",
       "\n",
       "    .dataframe thead th {\n",
       "        text-align: right;\n",
       "    }\n",
       "</style>\n",
       "<table border=\"1\" class=\"dataframe\">\n",
       "  <thead>\n",
       "    <tr style=\"text-align: right;\">\n",
       "      <th></th>\n",
       "      <th>ID</th>\n",
       "      <th>Lat</th>\n",
       "      <th>Lng</th>\n",
       "      <th>Distance(mi)</th>\n",
       "      <th>Crossing</th>\n",
       "      <th>Give_Way</th>\n",
       "      <th>Junction</th>\n",
       "      <th>No_Exit</th>\n",
       "      <th>Railway</th>\n",
       "      <th>Stop</th>\n",
       "      <th>Amenity</th>\n",
       "      <th>Side</th>\n",
       "      <th>timestamp</th>\n",
       "      <th>date_time</th>\n",
       "      <th>is_holiday</th>\n",
       "      <th>Severity</th>\n",
       "    </tr>\n",
       "  </thead>\n",
       "  <tbody>\n",
       "    <tr>\n",
       "      <th>0</th>\n",
       "      <td>6407</td>\n",
       "      <td>37.786060</td>\n",
       "      <td>-122.390900</td>\n",
       "      <td>0.039</td>\n",
       "      <td>0</td>\n",
       "      <td>0</td>\n",
       "      <td>1</td>\n",
       "      <td>0</td>\n",
       "      <td>0</td>\n",
       "      <td>0</td>\n",
       "      <td>0</td>\n",
       "      <td>1</td>\n",
       "      <td>2016-04-04 19:20:31</td>\n",
       "      <td>2016-04-04 19:00:00</td>\n",
       "      <td>0</td>\n",
       "      <td>2</td>\n",
       "    </tr>\n",
       "    <tr>\n",
       "      <th>1</th>\n",
       "      <td>6408</td>\n",
       "      <td>37.769609</td>\n",
       "      <td>-122.415057</td>\n",
       "      <td>0.202</td>\n",
       "      <td>0</td>\n",
       "      <td>0</td>\n",
       "      <td>0</td>\n",
       "      <td>0</td>\n",
       "      <td>0</td>\n",
       "      <td>0</td>\n",
       "      <td>0</td>\n",
       "      <td>1</td>\n",
       "      <td>2020-10-28 11:51:00</td>\n",
       "      <td>2020-10-28 11:00:00</td>\n",
       "      <td>0</td>\n",
       "      <td>2</td>\n",
       "    </tr>\n",
       "    <tr>\n",
       "      <th>2</th>\n",
       "      <td>6409</td>\n",
       "      <td>37.807495</td>\n",
       "      <td>-122.476021</td>\n",
       "      <td>0.000</td>\n",
       "      <td>0</td>\n",
       "      <td>0</td>\n",
       "      <td>0</td>\n",
       "      <td>0</td>\n",
       "      <td>0</td>\n",
       "      <td>0</td>\n",
       "      <td>0</td>\n",
       "      <td>1</td>\n",
       "      <td>2019-09-09 07:36:45</td>\n",
       "      <td>2019-09-09 07:00:00</td>\n",
       "      <td>0</td>\n",
       "      <td>2</td>\n",
       "    </tr>\n",
       "    <tr>\n",
       "      <th>3</th>\n",
       "      <td>6410</td>\n",
       "      <td>37.761818</td>\n",
       "      <td>-122.405869</td>\n",
       "      <td>0.000</td>\n",
       "      <td>0</td>\n",
       "      <td>0</td>\n",
       "      <td>1</td>\n",
       "      <td>0</td>\n",
       "      <td>0</td>\n",
       "      <td>0</td>\n",
       "      <td>0</td>\n",
       "      <td>1</td>\n",
       "      <td>2019-08-06 15:46:25</td>\n",
       "      <td>2019-08-06 15:00:00</td>\n",
       "      <td>0</td>\n",
       "      <td>2</td>\n",
       "    </tr>\n",
       "    <tr>\n",
       "      <th>4</th>\n",
       "      <td>6411</td>\n",
       "      <td>37.732350</td>\n",
       "      <td>-122.414100</td>\n",
       "      <td>0.670</td>\n",
       "      <td>0</td>\n",
       "      <td>0</td>\n",
       "      <td>0</td>\n",
       "      <td>0</td>\n",
       "      <td>0</td>\n",
       "      <td>0</td>\n",
       "      <td>0</td>\n",
       "      <td>1</td>\n",
       "      <td>2018-10-17 09:54:58</td>\n",
       "      <td>2018-10-17 09:00:00</td>\n",
       "      <td>0</td>\n",
       "      <td>2</td>\n",
       "    </tr>\n",
       "  </tbody>\n",
       "</table>\n",
       "</div>"
      ],
      "text/plain": [
       "     ID        Lat         Lng  Distance(mi)  Crossing  Give_Way  Junction  \\\n",
       "0  6407  37.786060 -122.390900         0.039         0         0         1   \n",
       "1  6408  37.769609 -122.415057         0.202         0         0         0   \n",
       "2  6409  37.807495 -122.476021         0.000         0         0         0   \n",
       "3  6410  37.761818 -122.405869         0.000         0         0         1   \n",
       "4  6411  37.732350 -122.414100         0.670         0         0         0   \n",
       "\n",
       "   No_Exit  Railway  Stop  Amenity  Side           timestamp  \\\n",
       "0        0        0     0        0     1 2016-04-04 19:20:31   \n",
       "1        0        0     0        0     1 2020-10-28 11:51:00   \n",
       "2        0        0     0        0     1 2019-09-09 07:36:45   \n",
       "3        0        0     0        0     1 2019-08-06 15:46:25   \n",
       "4        0        0     0        0     1 2018-10-17 09:54:58   \n",
       "\n",
       "            date_time  is_holiday  Severity  \n",
       "0 2016-04-04 19:00:00           0         2  \n",
       "1 2020-10-28 11:00:00           0         2  \n",
       "2 2019-09-09 07:00:00           0         2  \n",
       "3 2019-08-06 15:00:00           0         2  \n",
       "4 2018-10-17 09:00:00           0         2  "
      ]
     },
     "execution_count": 36,
     "metadata": {},
     "output_type": "execute_result"
    }
   ],
   "source": [
    "X_test = test_df_merged.drop(columns=['ID'])\n",
    "\n",
    "# You should update/remove the next line once you change the features used for training\n",
    "X_test = X_test[['Lat', 'Lng', 'Distance(mi)', 'Temperature(F)',\n",
    "       'Humidity(%)', 'Wind_Speed(mph)']]\n",
    "\n",
    "y_test_predicted = classifier.predict(X_test)\n",
    "\n",
    "test_df['Severity'] = y_test_predicted\n",
    "\n",
    "test_df.head()"
   ]
  },
  {
   "cell_type": "markdown",
   "metadata": {
    "papermill": {
     "duration": 0.025364,
     "end_time": "2021-06-04T18:20:12.713157",
     "exception": false,
     "start_time": "2021-06-04T18:20:12.687793",
     "status": "completed"
    },
    "tags": []
   },
   "source": [
    "Now we're ready to generate the submission file. The submission file needs the columns `ID` and `Severity` only."
   ]
  },
  {
   "cell_type": "code",
   "execution_count": 37,
   "metadata": {
    "execution": {
     "iopub.execute_input": "2021-07-27T00:18:09.768080Z",
     "iopub.status.busy": "2021-07-27T00:18:09.767815Z",
     "iopub.status.idle": "2021-07-27T00:18:09.778996Z",
     "shell.execute_reply": "2021-07-27T00:18:09.778171Z",
     "shell.execute_reply.started": "2021-07-27T00:18:09.768052Z"
    },
    "papermill": {
     "duration": 0.031031,
     "end_time": "2021-06-04T18:20:12.769282",
     "exception": false,
     "start_time": "2021-06-04T18:20:12.738251",
     "status": "completed"
    },
    "tags": []
   },
   "outputs": [],
   "source": [
    "test_df[['ID', 'Severity']].to_csv('/kaggle/working/submission.csv', index=False)"
   ]
  },
  {
   "cell_type": "markdown",
   "metadata": {
    "papermill": {
     "duration": 0.012446,
     "end_time": "2021-06-04T18:20:12.795186",
     "exception": false,
     "start_time": "2021-06-04T18:20:12.78274",
     "status": "completed"
    },
    "tags": []
   },
   "source": [
    "The remaining steps is to submit the generated file and are as follows. \n",
    "\n",
    "1. Press `Save Version` on the upper right corner of this notebook.\n",
    "2. Write a `Version Name` of your choice and choose `Save & Run All (Commit)` then click `Save`.\n",
    "3. Wait for the saved notebook to finish running the go to the saved notebook.\n",
    "4. Scroll down until you see the output files then select the `submission.csv` file and click `Submit`.\n",
    "\n",
    "Now your submission will be evaluated and your score will be updated on the leaderboard! CONGRATULATIONS!!"
   ]
  },
  {
   "cell_type": "markdown",
   "metadata": {
    "papermill": {
     "duration": 0.012548,
     "end_time": "2021-06-04T18:20:12.821037",
     "exception": false,
     "start_time": "2021-06-04T18:20:12.808489",
     "status": "completed"
    },
    "tags": []
   },
   "source": [
    "## Conclusion\n",
    "\n",
    "In this notebook, we have demonstrated the essential steps that one should do in order to get \"slightly\" familiar with the data and the submission process. We chose not to go into details in each step to keep the welcoming notebook simple and make a room for improvement.\n",
    "\n",
    "You're encourged to `Fork` the notebook, edit it, add your insights and use it to create your submission."
   ]
  }
 ],
 "metadata": {
  "kernelspec": {
   "display_name": "Python 3",
   "language": "python",
   "name": "python3"
  },
  "language_info": {
   "codemirror_mode": {
    "name": "ipython",
    "version": 3
   },
   "file_extension": ".py",
   "mimetype": "text/x-python",
   "name": "python",
   "nbconvert_exporter": "python",
   "pygments_lexer": "ipython3",
   "version": "3.7.9"
  }
 },
 "nbformat": 4,
 "nbformat_minor": 4
}
